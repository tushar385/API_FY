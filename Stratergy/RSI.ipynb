{
 "cells": [
  {
   "cell_type": "markdown",
   "metadata": {},
   "source": [
    "## 1. Importing Libraries"
   ]
  },
  {
   "cell_type": "code",
   "execution_count": 3,
   "metadata": {},
   "outputs": [],
   "source": [
    "import time\n",
    "from configparser import ConfigParser\n",
    "from fyers_api import fyersModel\n",
    "import pandas as pd\n",
    "import os\n",
    "import talib              #https://cloudstrata.io/install-ta-lib-on-ubuntu-server/\n",
    "import datetime as dt\n",
    "import pdb\n",
    "import asyncio"
   ]
  },
  {
   "cell_type": "markdown",
   "metadata": {},
   "source": [
    "#### Talib installation in notebbok"
   ]
  },
  {
   "cell_type": "markdown",
   "metadata": {},
   "source": [
    "! wget http://prdownloads.sourceforge.net/ta-lib/ta-lib-0.4.0-src.tar.gz"
   ]
  },
  {
   "cell_type": "markdown",
   "metadata": {},
   "source": [
    "! tar -xzf ta-lib-0.4.0-src.tar.gz"
   ]
  },
  {
   "cell_type": "markdown",
   "metadata": {},
   "source": [
    "! cd ta-lib/"
   ]
  },
  {
   "cell_type": "markdown",
   "metadata": {},
   "source": [
    "import getpass\n",
    "password = getpass.getpass()\n",
    "command = \"sudo ./configure\"\n",
    "\n"
   ]
  },
  {
   "cell_type": "markdown",
   "metadata": {},
   "source": [
    "import getpass\n",
    "password = getpass.getpass()\n",
    "command = \"sudo make\""
   ]
  },
  {
   "cell_type": "markdown",
   "metadata": {},
   "source": [
    "import getpass\n",
    "password = getpass.getpass()\n",
    "command = \"sudo make install\""
   ]
  },
  {
   "cell_type": "markdown",
   "metadata": {},
   "source": [
    "! pip install ta-lib"
   ]
  },
  {
   "cell_type": "markdown",
   "metadata": {},
   "source": [
    "! export LD_LIBRARY_PATH=/usr/local/lib:$LD_LIBRARY_PATH"
   ]
  },
  {
   "cell_type": "markdown",
   "metadata": {},
   "source": [
    "## 2. Code"
   ]
  },
  {
   "cell_type": "code",
   "execution_count": 4,
   "metadata": {},
   "outputs": [
    {
     "name": "stdout",
     "output_type": "stream",
     "text": [
      "access_token: eyJ0eXAiOiJKV1QiLCJhbGciOiJIUzI1NiJ9.eyJpc3MiOiJhcGkuZnllcnMuaW4iLCJpYXQiOjE3MDA4MzA1NzgsImV4cCI6MTcwMDg3MjIxOCwibmJmIjoxNzAwODMwNTc4LCJhdWQiOlsieDowIiwieDoxIiwieDoyIiwiZDoxIiwiZDoyIiwieDoxIiwieDowIl0sInN1YiI6ImFjY2Vzc190b2tlbiIsImF0X2hhc2giOiJnQUFBQUFCbFlKMXlfUVZ1M3o0NGxuRjVaRWYwSDluLVZTQnVtekY1MUhTUWphTFVtTVhPY3ZoUmxYZlQ4aS11RldSUUtXT3hlVngxX2g0WDN4WkY5YVJMUlJQd1hJSjZ2a2xBUnlRM1FYLU5HWDM1RFRRWHhhcz0iLCJkaXNwbGF5X25hbWUiOiJUVVNIQVIgVU1FU0ggU0VUSEkiLCJvbXMiOiJLMSIsImhzbV9rZXkiOiJhOGQ5ZTJjYzc1NWJhMmY1YjFiOThlYTkxNDdlY2MyMmZkMjI2ODVkMmM5NWY4YTA0MTk3ODVmYyIsImZ5X2lkIjoiWFQwOTk2MCIsImFwcFR5cGUiOjEwMCwicG9hX2ZsYWciOiJOIn0.uVd3mbHNW_CEmyGSF18iDkl1FY4EQOjnYcS9eY-jrEo\n",
      "validation: {'s': 'ok', 'code': 200, 'message': '', 'data': {'fy_id': 'XT09960', 'name': 'TUSHAR UMESH SETHI', 'image': None, 'display_name': None, 'pin_change_date': '31-10-2023 20:01:26', 'email_id': 'tusharsethi385@gmail.com', 'pwd_change_date': None, 'PAN': '---------', 'mobile_number': '9665442404', 'totp': True, 'pwd_to_expire': 90}}\n"
     ]
    }
   ],
   "source": [
    "config = ConfigParser()\n",
    "config.read('config.ini')\n",
    "\n",
    "with open(\"access.txt\", 'r') as r:\n",
    "    access_token = r.read()\n",
    "\n",
    "print(\"access_token:\", access_token)\n",
    "\n",
    "\n",
    "client_id='L0QBIDUTN6-100'\n",
    "fyers = fyersModel.FyersModel(token=access_token, log_path=os.getcwd(), client_id = client_id)\n",
    "validation = fyers.get_profile()\n",
    "print(\"validation:\", validation)"
   ]
  },
  {
   "cell_type": "markdown",
   "metadata": {},
   "source": [
    "## V1"
   ]
  },
  {
   "cell_type": "code",
   "execution_count": 4,
   "metadata": {},
   "outputs": [
    {
     "name": "stdout",
     "output_type": "stream",
     "text": [
      "DataFrame:\n",
      "               0         1         2         3         4  5\n",
      "0     1700192700  43656.25  43769.85  43574.10  43749.80  0\n",
      "1     1700192760  43742.20  43852.00  43729.50  43841.15  0\n",
      "2     1700192820  43862.15  43862.15  43819.95  43824.40  0\n",
      "3     1700192880  43822.95  43835.85  43772.00  43795.05  0\n",
      "4     1700192940  43790.60  43813.40  43779.30  43810.00  0\n",
      "...          ...       ...       ...       ...       ... ..\n",
      "1026  1700554080  43723.55  43723.55  43709.15  43711.25  0\n",
      "1027  1700554140  43711.00  43712.35  43706.00  43709.25  0\n",
      "1028  1700554200  43708.80  43716.70  43702.75  43716.70  0\n",
      "1029  1700554260  43718.20  43719.20  43711.00  43713.70  0\n",
      "1030  1700554320  43714.40  43720.95  43709.15  43712.50  0\n",
      "\n",
      "[1031 rows x 6 columns]\n",
      "RSI values:\n",
      "0             NaN\n",
      "1             NaN\n",
      "2             NaN\n",
      "3             NaN\n",
      "4             NaN\n",
      "          ...    \n",
      "1026    63.537387\n",
      "1027    61.958758\n",
      "1028    65.406654\n",
      "1029    62.933063\n",
      "1030    61.924248\n",
      "Name: rsi, Length: 1031, dtype: float64\n",
      "13:43:39 RSI (-2candle) :62.933062717338906 RSI (-1 candle) : 61.92424789894121\n"
     ]
    },
    {
     "ename": "KeyboardInterrupt",
     "evalue": "",
     "output_type": "error",
     "traceback": [
      "\u001b[0;31m---------------------------------------------------------------------------\u001b[0m",
      "\u001b[0;31mKeyboardInterrupt\u001b[0m                         Traceback (most recent call last)",
      "Cell \u001b[0;32mIn[4], line 116\u001b[0m\n\u001b[1;32m    114\u001b[0m data \u001b[39m=\u001b[39m fyers\u001b[39m.\u001b[39mhistory(data\u001b[39m=\u001b[39msymbol_data)\n\u001b[1;32m    115\u001b[0m process_data(data)\n\u001b[0;32m--> 116\u001b[0m time\u001b[39m.\u001b[39;49msleep(\u001b[39m30\u001b[39;49m)  \u001b[39m# Sleep for 30 seconds before the next iteration\u001b[39;00m\n",
      "\u001b[0;31mKeyboardInterrupt\u001b[0m: "
     ]
    }
   ],
   "source": [
    "import time\n",
    "from fyers_api import fyersModel\n",
    "import pandas as pd\n",
    "import talib\n",
    "\n",
    "# Initialize variables\n",
    "banknifty_symbol = \"NSE:NIFTYBANK-INDEX\"\n",
    "is_long_trade = False\n",
    "is_short_trade = False\n",
    "rsi_period = 14\n",
    "call_rsi_threshold = 60\n",
    "put_rsi_threshold = 40\n",
    "\n",
    "# Function to process data and place trades\n",
    "def process_data(data):\n",
    "    global is_long_trade, is_short_trade, call_symbol, put_symbol\n",
    "\n",
    "    df = pd.DataFrame(data['candles'])\n",
    "    print(\"DataFrame:\")\n",
    "    print(df)\n",
    "\n",
    "    df['rsi'] = talib.RSI(df[4], timeperiod=rsi_period)\n",
    "    print(\"RSI values:\")\n",
    "    print(df['rsi'])\n",
    "\n",
    "    print(str(time.localtime().tm_hour) + ':' + str(time.localtime().tm_min) + ':' + str(time.localtime().tm_sec) +\n",
    "          \" RSI (-2candle) :\" + str(df['rsi'].iloc[-2]) + \" RSI (-1 candle) : \" + str(df['rsi'].iloc[-1]))\n",
    "\n",
    "    # Check for long entry condition\n",
    "    if not is_long_trade and df['rsi'].iloc[-2] < call_rsi_threshold and df['rsi'].iloc[-1] > call_rsi_threshold:\n",
    "        # Place long trade\n",
    "        print(\"RSI crossover: Buy Bank Nifty / Buy Call Option\")\n",
    "        round_to_strike = int(round(float(df[4].iloc[-1]), -2))\n",
    "        call_symbol = \"NSE:BANKNIFTY23N22\" + str(round_to_strike) + 'CE'\n",
    "        #call_symbol = \"NSE:BANKNIFTY231122\" + str(round_to_strike) + 'CE'    #old format\n",
    "        # call_symbol = 'NSE:BANKNIFTY23N2243500PE'      #required format\n",
    "        trade = {\n",
    "            \"symbol\": call_symbol,\n",
    "            \"qty\": 15,\n",
    "            \"type\": 2,\n",
    "            \"side\": 1,\n",
    "            \"productType\": \"INTRADAY\",\n",
    "            \"limitPrice\": 0,\n",
    "            \"stopPrice\": 0,\n",
    "            \"validity\": \"DAY\",\n",
    "            \"disclosedQty\": 0,\n",
    "            \"offlineOrder\": \"False\",\n",
    "            \"stopLoss\": 0,\n",
    "            \"takeProfit\": 0\n",
    "        }\n",
    "        order = fyers.place_order(data=trade)\n",
    "\n",
    "        # Print relevant information for debugging\n",
    "        print('Order parameters:', trade)\n",
    "        print('Response:', order)\n",
    "\n",
    "        # Set trade flags\n",
    "        is_long_trade = True\n",
    "        is_short_trade = False\n",
    "\n",
    "    if is_long_trade:\n",
    "        print(\"Long entry has been taken. Check conditions for Stop Loss or Target\")\n",
    "        # Write your logic for stop loss\n",
    "        # is_long_trade = False\n",
    "\n",
    "    # Check for short entry\n",
    "    if not is_short_trade and df['rsi'].iloc[-2] > put_rsi_threshold and df['rsi'].iloc[-1] < put_rsi_threshold:\n",
    "        # Place short trade\n",
    "        print(\"RSI crossover: Sell Bank Nifty / Buy Put Option\")\n",
    "        round_to_strike = int(round(float(df[4].iloc[-1]), -2))\n",
    "        put_symbol = \"NSE:BANKNIFTY23N22\" + str(round_to_strike) + 'PE'\n",
    "        trade = {\n",
    "            \"symbol\": put_symbol,\n",
    "            \"qty\": 15,\n",
    "            \"type\": 2,\n",
    "            \"side\": 1,\n",
    "            \"productType\": \"INTRADAY\",\n",
    "            \"limitPrice\": 0,\n",
    "            \"stopPrice\": 0,\n",
    "            \"validity\": \"DAY\",\n",
    "            \"disclosedQty\": 0,\n",
    "            \"offlineOrder\": \"False\",\n",
    "            \"stopLoss\": 0,\n",
    "            \"takeProfit\": 0\n",
    "        }\n",
    "\n",
    "        order = fyers.place_order(data=trade)\n",
    "\n",
    "        # Print relevant information for debugging\n",
    "        print('Order parameters:', trade)\n",
    "        print('Response:', order)\n",
    "\n",
    "        # Set trade flags\n",
    "        is_long_trade = False\n",
    "        is_short_trade = True\n",
    "\n",
    "    if is_short_trade:\n",
    "        print(\"Short entry has been taken. Check conditions for Stop Loss or Target\")\n",
    "        # Write your logic for stop loss\n",
    "        # is_short_trade = False\n",
    "\n",
    "# Symbol data for historical candles\n",
    "symbol_data = {\n",
    "    \"symbol\": banknifty_symbol,\n",
    "    \"resolution\": \"1\",\n",
    "    \"date_format\": \"1\",\n",
    "    \"range_from\": \"2023-11-17\",\n",
    "    \"range_to\": \"2023-11-21\",\n",
    "    \"cont_flag\": \"1\"\n",
    "}\n",
    "\n",
    "while True:\n",
    "    # Get historical candles data\n",
    "    data = fyers.history(data=symbol_data)\n",
    "    process_data(data)\n",
    "    time.sleep(30)  # Sleep for 30 seconds before the next iteration\n",
    "    \n"
   ]
  },
  {
   "cell_type": "markdown",
   "metadata": {},
   "source": [
    "## V2"
   ]
  },
  {
   "cell_type": "code",
   "execution_count": 43,
   "metadata": {},
   "outputs": [],
   "source": [
    "import time"
   ]
  },
  {
   "cell_type": "code",
   "execution_count": 7,
   "metadata": {},
   "outputs": [
    {
     "name": "stdout",
     "output_type": "stream",
     "text": [
      "DataFrame:\n",
      "                      0         1         2         3         4  5        rsi\n",
      "0   2023-11-23 09:15:00  43452.75  43515.75  43451.35  43510.80  0        NaN\n",
      "1   2023-11-23 09:16:00  43509.75  43517.00  43486.10  43505.65  0        NaN\n",
      "2   2023-11-23 09:17:00  43507.20  43519.30  43496.75  43514.30  0        NaN\n",
      "3   2023-11-23 09:18:00  43513.35  43518.70  43499.70  43504.20  0        NaN\n",
      "4   2023-11-23 09:19:00  43505.95  43516.25  43504.35  43505.75  0        NaN\n",
      "..                  ...       ...       ...       ...       ... ..        ...\n",
      "370 2023-11-23 15:25:00  43590.05  43594.15  43587.10  43589.40  0  55.258053\n",
      "371 2023-11-23 15:26:00  43589.85  43598.15  43585.90  43595.45  0  58.408168\n",
      "372 2023-11-23 15:27:00  43597.15  43602.10  43595.15  43600.80  0  61.021642\n",
      "373 2023-11-23 15:28:00  43598.65  43601.40  43594.65  43598.00  0  58.934423\n",
      "374 2023-11-23 15:29:00  43597.65  43602.25  43580.85  43590.40  0  53.577595\n",
      "\n",
      "[375 rows x 7 columns]\n",
      "18:29:30 RSI (-2candle) :58.93442265409207 RSI (-1 candle) : 53.577594669069875\n",
      "RSI crossover: Sell Bank Nifty / Buy Put Option\n",
      "Order parameters: {'symbol': 'NSE:BANKNIFTY23N43600PE', 'qty': 15, 'type': 2, 'side': 1, 'productType': 'INTRADAY', 'limitPrice': 0, 'stopPrice': 0, 'validity': 'DAY', 'disclosedQty': 0, 'offlineOrder': 'False', 'stopLoss': 0, 'takeProfit': 0}\n",
      "Response: {'s': 'error', 'code': -300, 'message': 'Orders are not allowed in this symbol.', 'id': ''}\n",
      "Short entry has been taken. Check conditions for Stop Loss or Target\n"
     ]
    },
    {
     "ename": "KeyboardInterrupt",
     "evalue": "",
     "output_type": "error",
     "traceback": [
      "\u001b[0;31m---------------------------------------------------------------------------\u001b[0m",
      "\u001b[0;31mKeyboardInterrupt\u001b[0m                         Traceback (most recent call last)",
      "Cell \u001b[0;32mIn[7], line 120\u001b[0m\n\u001b[1;32m    118\u001b[0m data \u001b[39m=\u001b[39m fyers\u001b[39m.\u001b[39mhistory(data\u001b[39m=\u001b[39msymbol_data)\n\u001b[1;32m    119\u001b[0m process_data(data)\n\u001b[0;32m--> 120\u001b[0m time\u001b[39m.\u001b[39;49msleep(\u001b[39m30\u001b[39;49m)  \u001b[39m# Sleep for 30 seconds before the next iteration\u001b[39;00m\n",
      "\u001b[0;31mKeyboardInterrupt\u001b[0m: "
     ]
    }
   ],
   "source": [
    "import time\n",
    "from fyers_api import fyersModel\n",
    "import pandas as pd\n",
    "import talib\n",
    "\n",
    "# Initialize variables\n",
    "banknifty_symbol = \"NSE:NIFTYBANK-INDEX\"\n",
    "is_long_trade = False\n",
    "is_short_trade = False\n",
    "rsi_period = 14\n",
    "call_rsi_threshold = 60\n",
    "put_rsi_threshold = 55\n",
    "\n",
    "# Function to process data and place trades\n",
    "def process_data(data):\n",
    "    global is_long_trade, is_short_trade, call_symbol, put_symbol\n",
    "\n",
    "    df = pd.DataFrame(data['candles'])\n",
    "    print(\"DataFrame:\")\n",
    "    df[0] = pd.to_datetime(df[0],unit='s')\n",
    "    df[0]=(df[0].dt.tz_localize('UTC').dt.tz_convert('Asia/Kolkata'))\n",
    "    df[0] = df[0].dt.tz_localize(None)\n",
    "    # df= df.set_index('date')\n",
    "    # print(df)\n",
    "\n",
    "    df['rsi'] = talib.RSI(df[4], timeperiod=rsi_period)\n",
    "    print(df)\n",
    "\n",
    "    print(str(time.localtime().tm_hour) + ':' + str(time.localtime().tm_min) + ':' + str(time.localtime().tm_sec) +\n",
    "          \" RSI (-2candle) :\" + str(df['rsi'].iloc[-2]) + \" RSI (-1 candle) : \" + str(df['rsi'].iloc[-1]))\n",
    "    \n",
    "\n",
    "    # Check for long entry condition\n",
    "    if not is_long_trade and df['rsi'].iloc[-2] < 60 and df['rsi'].iloc[-1] > 60:\n",
    "        # Place long trade\n",
    "        print(\"RSI crossover: Buy Bank Nifty / Buy Call Option\")\n",
    "        round_to_strike = int(round(float(df[4].iloc[-1]), -2))\n",
    "        call_symbol = \"NSE:BANKNIFTY23N31\" + str(round_to_strike) + 'CE'\n",
    "        #call_symbol = \"NSE:BANKNIFTY231122\" + str(round_to_strike) + 'CE'    #old format\n",
    "        # call_symbol = 'NSE:BANKNIFTY23N2243500PE'      #required format\n",
    "        trade = {\n",
    "            \"symbol\": call_symbol,\n",
    "            \"qty\": 1,\n",
    "            \"type\": 2,\n",
    "            \"side\": 1,\n",
    "            \"productType\": \"INTRADAY\",\n",
    "            \"limitPrice\": 0,\n",
    "            \"stopPrice\": 0,\n",
    "            \"validity\": \"DAY\",\n",
    "            \"disclosedQty\": 0,\n",
    "            \"offlineOrder\": \"True\",\n",
    "            \"stopLoss\": 0,\n",
    "            \"takeProfit\": 0\n",
    "        }\n",
    "        order = fyers.place_order(data=trade)\n",
    "\n",
    "        # Print relevant information for debugging\n",
    "        print('Order parameters:', trade)\n",
    "        print('Response:', order)\n",
    "\n",
    "        # Set trade flags\n",
    "        is_long_trade = True\n",
    "        is_short_trade = False\n",
    "\n",
    "    if is_long_trade:\n",
    "        print(\"Long entry has been taken. Check conditions for Stop Loss or Target\")\n",
    "        # Write your logic for stop loss\n",
    "        # is_long_trade = False\n",
    "\n",
    "    # Check for short entry\n",
    "    if not is_short_trade and df['rsi'].iloc[-2] > put_rsi_threshold and df['rsi'].iloc[-1] < put_rsi_threshold:\n",
    "        # Place short trade\n",
    "        print(\"RSI crossover: Sell Bank Nifty / Buy Put Option\")\n",
    "        round_to_strike = int(round(float(df[4].iloc[-1]), -2))\n",
    "        put_symbol = \"NSE:BANKNIFTY23N\" + str(round_to_strike) + 'PE'\n",
    "        trade = {\n",
    "            \"symbol\": put_symbol,\n",
    "            \"qty\": 15,\n",
    "            \"type\": 2,\n",
    "            \"side\": 1,\n",
    "            \"productType\": \"INTRADAY\",\n",
    "            \"limitPrice\": 0,\n",
    "            \"stopPrice\": 0,\n",
    "            \"validity\": \"DAY\",\n",
    "            \"disclosedQty\": 0,\n",
    "            \"offlineOrder\": \"False\",\n",
    "            \"stopLoss\": 0,\n",
    "            \"takeProfit\": 0\n",
    "        }\n",
    "\n",
    "        order = fyers.place_order(data=trade)\n",
    "\n",
    "        # Print relevant information for debugging\n",
    "        print('Order parameters:', trade)\n",
    "        print('Response:', order)\n",
    "\n",
    "        # Set trade flags\n",
    "        is_long_trade = False\n",
    "        is_short_trade = True\n",
    "\n",
    "    if is_short_trade:\n",
    "        print(\"Short entry has been taken. Check conditions for Stop Loss or Target\")\n",
    "        # Write your logic for stop loss\n",
    "        # is_short_trade = False\n",
    "\n",
    "# Symbol data for historical candles\n",
    "symbol_data = {\n",
    "    \"symbol\": banknifty_symbol,\n",
    "    \"resolution\": \"1\",\n",
    "    \"date_format\": \"1\",\n",
    "    \"range_from\": \"2023-11-23\",\n",
    "    \"range_to\": \"2023-11-23\",\n",
    "    \"cont_flag\": \"1\"\n",
    "}\n",
    "\n",
    "while True:\n",
    "    # Get historical candles data\n",
    "    data = fyers.history(data=symbol_data)\n",
    "    process_data(data)\n",
    "    time.sleep(30)  # Sleep for 30 seconds before the next iteration\n",
    "    \n"
   ]
  },
  {
   "cell_type": "code",
   "execution_count": null,
   "metadata": {},
   "outputs": [],
   "source": []
  }
 ],
 "metadata": {
  "kernelspec": {
   "display_name": "Python 3.10.12 64-bit",
   "language": "python",
   "name": "python3"
  },
  "language_info": {
   "codemirror_mode": {
    "name": "ipython",
    "version": 3
   },
   "file_extension": ".py",
   "mimetype": "text/x-python",
   "name": "python",
   "nbconvert_exporter": "python",
   "pygments_lexer": "ipython3",
   "version": "3.10.12"
  },
  "orig_nbformat": 4,
  "vscode": {
   "interpreter": {
    "hash": "916dbcbb3f70747c44a77c7bcd40155683ae19c65e1c03b4aa3499c5328201f1"
   }
  }
 },
 "nbformat": 4,
 "nbformat_minor": 2
}
