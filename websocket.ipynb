{
 "cells": [
  {
   "cell_type": "markdown",
   "metadata": {},
   "source": [
    "## 1 Importing libraries"
   ]
  },
  {
   "cell_type": "code",
   "execution_count": 1,
   "metadata": {},
   "outputs": [],
   "source": [
    "from fyers_api import fyersModel\n",
    "import os\n",
    "import pandas as pd\n",
    "import datetime as dt\n",
    "from fyers_api.Websocket import ws\n",
    "import sys\n",
    "import time\n",
    "\n",
    "with open(\"access.txt\",'r') as r:\n",
    "    access_token=r.read()\n",
    "\n",
    "client_id='L0QBIDUTN6-100'"
   ]
  },
  {
   "cell_type": "code",
   "execution_count": 2,
   "metadata": {},
   "outputs": [],
   "source": [
    "newtoken = f\"{client_id}:{access_token}\""
   ]
  },
  {
   "cell_type": "markdown",
   "metadata": {},
   "source": [
    "## 2 calling web-socket class"
   ]
  },
  {
   "cell_type": "code",
   "execution_count": 3,
   "metadata": {},
   "outputs": [],
   "source": [
    "symbol = [\"NSE:SBIN23NOV580CE\"]\n",
    "kws = ws.FyersSocket(access_token=newtoken, run_background=False,log_path=os.getcwd())"
   ]
  },
  {
   "cell_type": "markdown",
   "metadata": {},
   "source": [
    "# 3 Function to print output"
   ]
  },
  {
   "cell_type": "code",
   "execution_count": 4,
   "metadata": {},
   "outputs": [],
   "source": [
    "def on_ticks(msg):\n",
    "    print(msg)"
   ]
  },
  {
   "cell_type": "markdown",
   "metadata": {},
   "source": [
    "# 4 creating web socket connection & subscribing to a stock"
   ]
  },
  {
   "cell_type": "code",
   "execution_count": null,
   "metadata": {},
   "outputs": [],
   "source": [
    "kws.websocket_data = on_ticks\n",
    "kws.subscribe(symbol=symbol, data_type=\"symbolData\")\n",
    "kws.keep_running()"
   ]
  },
  {
   "cell_type": "markdown",
   "metadata": {},
   "source": [
    "## 5 Complete Code"
   ]
  },
  {
   "cell_type": "code",
   "execution_count": 1,
   "metadata": {},
   "outputs": [
    {
     "name": "stdout",
     "output_type": "stream",
     "text": [
      "scripts:  NSE:SBIN-EQ,  Ltp:564.0,  High:574.5,  Low:563.1,  ltt:2023-11-17 14:27:53\n",
      "scripts:  NSE:SBIN-EQ,  Ltp:564.0,  High:574.5,  Low:563.1,  ltt:2023-11-17 14:27:53\n",
      "scripts:  NSE:SBIN-EQ,  Ltp:564.0,  High:574.5,  Low:563.1,  ltt:2023-11-17 14:27:53\n",
      "scripts:  NSE:SBIN-EQ,  Ltp:564.0,  High:574.5,  Low:563.1,  ltt:2023-11-17 14:27:53\n",
      "scripts:  NSE:SBIN-EQ,  Ltp:564.05,  High:574.5,  Low:563.1,  ltt:2023-11-17 14:27:55\n",
      "scripts:  NSE:SBIN-EQ,  Ltp:564.05,  High:574.5,  Low:563.1,  ltt:2023-11-17 14:27:55\n",
      "scripts:  NSE:SBIN-EQ,  Ltp:564.05,  High:574.5,  Low:563.1,  ltt:2023-11-17 14:27:55\n",
      "scripts:  NSE:SBIN-EQ,  Ltp:564.05,  High:574.5,  Low:563.1,  ltt:2023-11-17 14:27:55\n",
      "scripts:  NSE:SBIN-EQ,  Ltp:564.05,  High:574.5,  Low:563.1,  ltt:2023-11-17 14:27:55\n",
      "scripts:  NSE:SBIN-EQ,  Ltp:564.1,  High:574.5,  Low:563.1,  ltt:2023-11-17 14:27:56\n",
      "scripts:  NSE:SBIN-EQ,  Ltp:564.1,  High:574.5,  Low:563.1,  ltt:2023-11-17 14:27:56\n",
      "scripts:  NSE:SBIN-EQ,  Ltp:564.1,  High:574.5,  Low:563.1,  ltt:2023-11-17 14:27:57\n",
      "scripts:  NSE:SBIN-EQ,  Ltp:564.1,  High:574.5,  Low:563.1,  ltt:2023-11-17 14:27:57\n",
      "scripts:  NSE:SBIN-EQ,  Ltp:564.1,  High:574.5,  Low:563.1,  ltt:2023-11-17 14:27:57\n",
      "scripts:  NSE:SBIN-EQ,  Ltp:564.1,  High:574.5,  Low:563.1,  ltt:2023-11-17 14:27:57\n",
      "scripts:  NSE:SBIN-EQ,  Ltp:564.1,  High:574.5,  Low:563.1,  ltt:2023-11-17 14:27:57\n",
      "scripts:  NSE:SBIN-EQ,  Ltp:564.25,  High:574.5,  Low:563.1,  ltt:2023-11-17 14:27:58\n",
      "scripts:  NSE:SBIN-EQ,  Ltp:564.25,  High:574.5,  Low:563.1,  ltt:2023-11-17 14:27:58\n",
      "scripts:  NSE:SBIN-EQ,  Ltp:564.25,  High:574.5,  Low:563.1,  ltt:2023-11-17 14:27:58\n",
      "scripts:  NSE:SBIN-EQ,  Ltp:564.25,  High:574.5,  Low:563.1,  ltt:2023-11-17 14:27:58\n",
      "scripts:  NSE:SBIN-EQ,  Ltp:564.25,  High:574.5,  Low:563.1,  ltt:2023-11-17 14:27:58\n",
      "scripts:  NSE:SBIN-EQ,  Ltp:564.25,  High:574.5,  Low:563.1,  ltt:2023-11-17 14:27:59\n",
      "scripts:  NSE:SBIN-EQ,  Ltp:564.2,  High:574.5,  Low:563.1,  ltt:2023-11-17 14:28:01\n",
      "scripts:  NSE:SBIN-EQ,  Ltp:564.2,  High:574.5,  Low:563.1,  ltt:2023-11-17 14:28:01\n",
      "scripts:  NSE:SBIN-EQ,  Ltp:564.2,  High:574.5,  Low:563.1,  ltt:2023-11-17 14:28:01\n",
      "scripts:  NSE:SBIN-EQ,  Ltp:564.2,  High:574.5,  Low:563.1,  ltt:2023-11-17 14:28:01\n",
      "scripts:  NSE:SBIN-EQ,  Ltp:564.2,  High:574.5,  Low:563.1,  ltt:2023-11-17 14:28:01\n",
      "scripts:  NSE:SBIN-EQ,  Ltp:564.3,  High:574.5,  Low:563.1,  ltt:2023-11-17 14:28:05\n",
      "scripts:  NSE:SBIN-EQ,  Ltp:564.3,  High:574.5,  Low:563.1,  ltt:2023-11-17 14:28:05\n",
      "scripts:  NSE:SBIN-EQ,  Ltp:564.3,  High:574.5,  Low:563.1,  ltt:2023-11-17 14:28:05\n",
      "scripts:  NSE:SBIN-EQ,  Ltp:564.3,  High:574.5,  Low:563.1,  ltt:2023-11-17 14:28:05\n",
      "scripts:  NSE:SBIN-EQ,  Ltp:564.3,  High:574.5,  Low:563.1,  ltt:2023-11-17 14:28:06\n",
      "scripts:  NSE:SBIN-EQ,  Ltp:564.3,  High:574.5,  Low:563.1,  ltt:2023-11-17 14:28:06\n",
      "scripts:  NSE:SBIN-EQ,  Ltp:564.05,  High:574.5,  Low:563.1,  ltt:2023-11-17 14:28:08\n",
      "scripts:  NSE:SBIN-EQ,  Ltp:564.1,  High:574.5,  Low:563.1,  ltt:2023-11-17 14:28:10\n",
      "scripts:  NSE:SBIN-EQ,  Ltp:564.15,  High:574.5,  Low:563.1,  ltt:2023-11-17 14:28:11\n",
      "scripts:  NSE:SBIN-EQ,  Ltp:564.15,  High:574.5,  Low:563.1,  ltt:2023-11-17 14:28:11\n",
      "scripts:  NSE:SBIN-EQ,  Ltp:564.15,  High:574.5,  Low:563.1,  ltt:2023-11-17 14:28:11\n",
      "scripts:  NSE:SBIN-EQ,  Ltp:564.15,  High:574.5,  Low:563.1,  ltt:2023-11-17 14:28:11\n",
      "scripts:  NSE:SBIN-EQ,  Ltp:564.05,  High:574.5,  Low:563.1,  ltt:2023-11-17 14:28:13\n",
      "scripts:  NSE:SBIN-EQ,  Ltp:564.05,  High:574.5,  Low:563.1,  ltt:2023-11-17 14:28:13\n",
      "scripts:  NSE:SBIN-EQ,  Ltp:564.05,  High:574.5,  Low:563.1,  ltt:2023-11-17 14:28:14\n",
      "scripts:  NSE:SBIN-EQ,  Ltp:564.05,  High:574.5,  Low:563.1,  ltt:2023-11-17 14:28:14\n",
      "scripts:  NSE:SBIN-EQ,  Ltp:564.05,  High:574.5,  Low:563.1,  ltt:2023-11-17 14:28:14\n",
      "scripts:  NSE:SBIN-EQ,  Ltp:564.05,  High:574.5,  Low:563.1,  ltt:2023-11-17 14:28:14\n",
      "scripts:  NSE:SBIN-EQ,  Ltp:564.05,  High:574.5,  Low:563.1,  ltt:2023-11-17 14:28:14\n",
      "scripts:  NSE:SBIN-EQ,  Ltp:564.1,  High:574.5,  Low:563.1,  ltt:2023-11-17 14:28:16\n",
      "scripts:  NSE:SBIN-EQ,  Ltp:564.1,  High:574.5,  Low:563.1,  ltt:2023-11-17 14:28:16\n",
      "scripts:  NSE:SBIN-EQ,  Ltp:564.1,  High:574.5,  Low:563.1,  ltt:2023-11-17 14:28:16\n",
      "scripts:  NSE:SBIN-EQ,  Ltp:564.1,  High:574.5,  Low:563.1,  ltt:2023-11-17 14:28:16\n",
      "scripts:  NSE:SBIN-EQ,  Ltp:564.1,  High:574.5,  Low:563.1,  ltt:2023-11-17 14:28:16\n",
      "scripts:  NSE:SBIN-EQ,  Ltp:564.05,  High:574.5,  Low:563.1,  ltt:2023-11-17 14:28:17\n"
     ]
    }
   ],
   "source": [
    "from fyers_api import fyersModel\n",
    "import os\n",
    "import pandas as pd\n",
    "import datetime as dt\n",
    "from fyers_api.Websocket import ws\n",
    "import sys\n",
    "import time\n",
    "\n",
    "with open(\"access.txt\",'r') as r:\n",
    "    access_token=r.read()\n",
    "\n",
    "client_id='L0QBIDUTN6-100'\n",
    "fyers = fyersModel.FyersModel(token=access_token, log_path=os.getcwd(), client_id = client_id)\n",
    "\n",
    "newtoken = f\"{client_id}:{access_token}\"\n",
    "symbol = [\"NSE:SBIN-EQ\"]\n",
    "data_type = \"symbolData\"\n",
    "kws = ws.FyersSocket(access_token=newtoken, run_background=False, log_path=os.getcwd())\n",
    "start_minute = dt.datetime.now().minute\n",
    "\n",
    "def on_ticks(msg):\n",
    "    script = msg[0]['symbol']\n",
    "    ltp = msg[0]['ltp']\n",
    "    high = msg[0]['high_price']\n",
    "    low = msg[0]['low_price']\n",
    "    ltt=dt.datetime.fromtimestamp(msg[0]['timestamp'])\n",
    "    print(f\"scripts:  {script},  Ltp:{ltp},  High:{high},  Low:{low},  ltt:{ltt}\")\n",
    "    \n",
    "kws.websocket_data = on_ticks\n",
    "kws.subscribe(symbol=symbol, data_type=data_type)\n",
    "kws.keep_running()\n"
   ]
  },
  {
   "cell_type": "code",
   "execution_count": null,
   "metadata": {},
   "outputs": [],
   "source": []
  }
 ],
 "metadata": {
  "kernelspec": {
   "display_name": "Python 3.10.12 64-bit",
   "language": "python",
   "name": "python3"
  },
  "language_info": {
   "codemirror_mode": {
    "name": "ipython",
    "version": 3
   },
   "file_extension": ".py",
   "mimetype": "text/x-python",
   "name": "python",
   "nbconvert_exporter": "python",
   "pygments_lexer": "ipython3",
   "version": "3.10.12"
  },
  "orig_nbformat": 4,
  "vscode": {
   "interpreter": {
    "hash": "916dbcbb3f70747c44a77c7bcd40155683ae19c65e1c03b4aa3499c5328201f1"
   }
  }
 },
 "nbformat": 4,
 "nbformat_minor": 2
}
