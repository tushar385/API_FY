{
 "cells": [
  {
   "cell_type": "markdown",
   "metadata": {},
   "source": [
    "## Candle stick + Indicator "
   ]
  },
  {
   "cell_type": "markdown",
   "metadata": {},
   "source": [
    "### Buy - 3min\n",
    "\n",
    "1. 2 green candle\n",
    "2. volumne < 50k\n",
    "3. rsi betwwen 50-75\n",
    "4. super trend signal buy (set factor as 2)\n",
    "5. entry at start of 3rd candle\n",
    "6. SL - low of 1st candle\n",
    "7. Target - 2*SL & trailing\n",
    "\n",
    "### Sell - 3min\n",
    "1. 2 red candle\n",
    "2. volumne > 50k\n",
    "3. rsi betwwen 25-50\n",
    "4. super trend signal sell (set factor as 2))\n",
    "5. entry at start of 3rd candle\n",
    "6. SL - high of 1st candle\n",
    "7. Target - 2*SL & trailing"
   ]
  },
  {
   "cell_type": "code",
   "execution_count": null,
   "metadata": {},
   "outputs": [],
   "source": []
  }
 ],
 "metadata": {
  "kernelspec": {
   "display_name": "Python 3.10.12 64-bit",
   "language": "python",
   "name": "python3"
  },
  "language_info": {
   "name": "python",
   "version": "3.10.12"
  },
  "orig_nbformat": 4,
  "vscode": {
   "interpreter": {
    "hash": "916dbcbb3f70747c44a77c7bcd40155683ae19c65e1c03b4aa3499c5328201f1"
   }
  }
 },
 "nbformat": 4,
 "nbformat_minor": 2
}
