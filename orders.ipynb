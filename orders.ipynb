{
 "cells": [
  {
   "cell_type": "markdown",
   "metadata": {},
   "source": [
    "# 1 import libraries & token"
   ]
  },
  {
   "cell_type": "code",
   "execution_count": 5,
   "metadata": {},
   "outputs": [],
   "source": [
    "from fyers_api import fyersModel\n",
    "import os\n",
    "import pandas as pd\n",
    "import datetime as dt\n",
    "\n",
    "\n",
    "with open(\"access.txt\",'r') as r:\n",
    "    access_token=r.read()\n",
    "\n",
    "# print(\"access_token:\",access_token)\n",
    "\n",
    "client_id='L0QBIDUTN6-100'\n",
    "fyers = fyersModel.FyersModel(token=access_token, log_path=os.getcwd(), client_id = client_id)\n",
    "# validation = fyers.get_profile()\n",
    "# print(\"validation:\", validation)"
   ]
  },
  {
   "cell_type": "markdown",
   "metadata": {},
   "source": [
    "# 2 place order"
   ]
  },
  {
   "cell_type": "code",
   "execution_count": 6,
   "metadata": {},
   "outputs": [
    {
     "name": "stdout",
     "output_type": "stream",
     "text": [
      "{'s': 'error', 'code': -99, 'message': \"RED:'MIS' Orders are disallowed after system square off\", 'id': ''}\n"
     ]
    }
   ],
   "source": [
    "data = {\n",
    "     \"symbol\":\"NSE:SBIN-EQ\",\n",
    "     \"qty\":1,\n",
    "     \"type\":2,    #1 => Limit Order    2 => Market Order    3 => Stop Order (SL-M)    4 => Stoplimit Order (SL-L)\n",
    "     \"side\":1,    #1 => Buy      -1 => Sell\n",
    "     \"productType\":\"INTRADAY\",   #CNC => For equity only    INTRADAY => Applicable for all segments.  CO => Cover Order    BO => Bracket Order    MARGIN => Applicable only for derivatives\n",
    "     \"limitPrice\":0,        #for Limit and Stoplimit orders\n",
    "     \"stopPrice\":0,         #for Stop and Stoplimit orders\n",
    "     \"validity\":\"DAY\",\n",
    "     \"disclosedQty\":0,          \n",
    "     \"offlineOrder\":\"False\",     # False     True\n",
    "     \"stopLoss\":0,              #for CO and BO orders\n",
    "     \"takeProfit\":0             #for BO orders\n",
    " }\n",
    " \n",
    " \n",
    "order = fyers.place_order(data=data)\n",
    "print(order)"
   ]
  },
  {
   "cell_type": "markdown",
   "metadata": {},
   "source": [
    "# 3 Modify Order"
   ]
  },
  {
   "cell_type": "code",
   "execution_count": 15,
   "metadata": {},
   "outputs": [
    {
     "name": "stdout",
     "output_type": "stream",
     "text": [
      "{'s': 'ok', 'code': 1102, 'message': 'Successfully modified order', 'id': '23110800455059'}\n"
     ]
    }
   ],
   "source": [
    "orderId = '23110800455059'\n",
    "data = {\n",
    "           \"id\":orderId,\n",
    "           \"type\":1,\n",
    "           \"limitPrice\":600,\n",
    "           \"qty\":1,\n",
    "}\n",
    "\n",
    "modify = fyers.modify_order(data)\n",
    "print(modify)"
   ]
  },
  {
   "cell_type": "markdown",
   "metadata": {},
   "source": [
    "# 4 Cancel Order"
   ]
  },
  {
   "cell_type": "code",
   "execution_count": 17,
   "metadata": {},
   "outputs": [
    {
     "data": {
      "text/plain": [
       "{'s': 'ok',\n",
       " 'code': 1103,\n",
       " 'message': 'Successfully cancelled order',\n",
       " 'id': '23110800455059'}"
      ]
     },
     "execution_count": 17,
     "metadata": {},
     "output_type": "execute_result"
    }
   ],
   "source": [
    "orderId = '23110800455059'\n",
    "cancel = {\"id\":orderId}\n",
    "fyers.cancel_order(cancel)"
   ]
  },
  {
   "cell_type": "markdown",
   "metadata": {},
   "source": [
    "# 5 Transactions"
   ]
  },
  {
   "cell_type": "markdown",
   "metadata": {},
   "source": [
    "### 5.1 positions"
   ]
  },
  {
   "cell_type": "code",
   "execution_count": 23,
   "metadata": {},
   "outputs": [
    {
     "data": {
      "text/html": [
       "<div>\n",
       "<style scoped>\n",
       "    .dataframe tbody tr th:only-of-type {\n",
       "        vertical-align: middle;\n",
       "    }\n",
       "\n",
       "    .dataframe tbody tr th {\n",
       "        vertical-align: top;\n",
       "    }\n",
       "\n",
       "    .dataframe thead th {\n",
       "        text-align: right;\n",
       "    }\n",
       "</style>\n",
       "<table border=\"1\" class=\"dataframe\">\n",
       "  <thead>\n",
       "    <tr style=\"text-align: right;\">\n",
       "      <th></th>\n",
       "    </tr>\n",
       "  </thead>\n",
       "  <tbody>\n",
       "  </tbody>\n",
       "</table>\n",
       "</div>"
      ],
      "text/plain": [
       "Empty DataFrame\n",
       "Columns: []\n",
       "Index: []"
      ]
     },
     "execution_count": 23,
     "metadata": {},
     "output_type": "execute_result"
    }
   ],
   "source": [
    "pd.DataFrame(fyers.positions()['netPositions'])"
   ]
  },
  {
   "cell_type": "markdown",
   "metadata": {},
   "source": [
    "### 5.2 sucessful orders"
   ]
  },
  {
   "cell_type": "code",
   "execution_count": 22,
   "metadata": {},
   "outputs": [
    {
     "data": {
      "text/html": [
       "<div>\n",
       "<style scoped>\n",
       "    .dataframe tbody tr th:only-of-type {\n",
       "        vertical-align: middle;\n",
       "    }\n",
       "\n",
       "    .dataframe tbody tr th {\n",
       "        vertical-align: top;\n",
       "    }\n",
       "\n",
       "    .dataframe thead th {\n",
       "        text-align: right;\n",
       "    }\n",
       "</style>\n",
       "<table border=\"1\" class=\"dataframe\">\n",
       "  <thead>\n",
       "    <tr style=\"text-align: right;\">\n",
       "      <th></th>\n",
       "    </tr>\n",
       "  </thead>\n",
       "  <tbody>\n",
       "  </tbody>\n",
       "</table>\n",
       "</div>"
      ],
      "text/plain": [
       "Empty DataFrame\n",
       "Columns: []\n",
       "Index: []"
      ]
     },
     "execution_count": 22,
     "metadata": {},
     "output_type": "execute_result"
    }
   ],
   "source": [
    "pd.DataFrame(fyers.tradebook()['tradeBook'])"
   ]
  },
  {
   "cell_type": "markdown",
   "metadata": {},
   "source": [
    "### 5.3 all orders"
   ]
  },
  {
   "cell_type": "code",
   "execution_count": 28,
   "metadata": {},
   "outputs": [
    {
     "data": {
      "text/html": [
       "<div>\n",
       "<style scoped>\n",
       "    .dataframe tbody tr th:only-of-type {\n",
       "        vertical-align: middle;\n",
       "    }\n",
       "\n",
       "    .dataframe tbody tr th {\n",
       "        vertical-align: top;\n",
       "    }\n",
       "\n",
       "    .dataframe thead th {\n",
       "        text-align: right;\n",
       "    }\n",
       "</style>\n",
       "<table border=\"1\" class=\"dataframe\">\n",
       "  <thead>\n",
       "    <tr style=\"text-align: right;\">\n",
       "      <th></th>\n",
       "      <th>clientId</th>\n",
       "      <th>id</th>\n",
       "      <th>exchOrdId</th>\n",
       "      <th>qty</th>\n",
       "      <th>remainingQuantity</th>\n",
       "      <th>filledQty</th>\n",
       "      <th>discloseQty</th>\n",
       "      <th>limitPrice</th>\n",
       "      <th>stopPrice</th>\n",
       "      <th>tradedPrice</th>\n",
       "      <th>...</th>\n",
       "      <th>source</th>\n",
       "      <th>ex_sym</th>\n",
       "      <th>description</th>\n",
       "      <th>ch</th>\n",
       "      <th>chp</th>\n",
       "      <th>lp</th>\n",
       "      <th>slNo</th>\n",
       "      <th>dqQtyRem</th>\n",
       "      <th>orderNumStatus</th>\n",
       "      <th>disclosedQty</th>\n",
       "    </tr>\n",
       "  </thead>\n",
       "  <tbody>\n",
       "    <tr>\n",
       "      <th>0</th>\n",
       "      <td>XT09960</td>\n",
       "      <td>23110900210706</td>\n",
       "      <td></td>\n",
       "      <td>1</td>\n",
       "      <td>0</td>\n",
       "      <td>0</td>\n",
       "      <td>0</td>\n",
       "      <td>0</td>\n",
       "      <td>0</td>\n",
       "      <td>0</td>\n",
       "      <td>...</td>\n",
       "      <td>API</td>\n",
       "      <td>SBIN</td>\n",
       "      <td>STATE BANK OF INDIA</td>\n",
       "      <td>-1.94</td>\n",
       "      <td>-0.334316</td>\n",
       "      <td>578.35</td>\n",
       "      <td>1</td>\n",
       "      <td>0</td>\n",
       "      <td>23110900210706:5</td>\n",
       "      <td>0</td>\n",
       "    </tr>\n",
       "  </tbody>\n",
       "</table>\n",
       "<p>1 rows × 34 columns</p>\n",
       "</div>"
      ],
      "text/plain": [
       "  clientId              id exchOrdId  qty  remainingQuantity  filledQty  \\\n",
       "0  XT09960  23110900210706              1                  0          0   \n",
       "\n",
       "   discloseQty  limitPrice  stopPrice  tradedPrice  ...  source ex_sym  \\\n",
       "0            0           0          0            0  ...     API   SBIN   \n",
       "\n",
       "           description    ch       chp      lp slNo  dqQtyRem  \\\n",
       "0  STATE BANK OF INDIA -1.94 -0.334316  578.35    1         0   \n",
       "\n",
       "     orderNumStatus disclosedQty  \n",
       "0  23110900210706:5            0  \n",
       "\n",
       "[1 rows x 34 columns]"
      ]
     },
     "execution_count": 28,
     "metadata": {},
     "output_type": "execute_result"
    }
   ],
   "source": [
    "pd.DataFrame(fyers.orderbook()['orderBook'])"
   ]
  }
 ],
 "metadata": {
  "kernelspec": {
   "display_name": "Python 3.10.12 64-bit",
   "language": "python",
   "name": "python3"
  },
  "language_info": {
   "codemirror_mode": {
    "name": "ipython",
    "version": 3
   },
   "file_extension": ".py",
   "mimetype": "text/x-python",
   "name": "python",
   "nbconvert_exporter": "python",
   "pygments_lexer": "ipython3",
   "version": "3.10.12"
  },
  "orig_nbformat": 4,
  "vscode": {
   "interpreter": {
    "hash": "916dbcbb3f70747c44a77c7bcd40155683ae19c65e1c03b4aa3499c5328201f1"
   }
  }
 },
 "nbformat": 4,
 "nbformat_minor": 2
}
