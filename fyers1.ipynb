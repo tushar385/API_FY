{
 "cells": [
  {
   "cell_type": "markdown",
   "metadata": {},
   "source": [
    "## 1 - Importing Libraries"
   ]
  },
  {
   "cell_type": "code",
   "execution_count": 4,
   "metadata": {},
   "outputs": [],
   "source": [
    "from fyers_api import accessToken"
   ]
  },
  {
   "cell_type": "markdown",
   "metadata": {},
   "source": [
    "## 2 - sending client_id + url & receiving authcode"
   ]
  },
  {
   "cell_type": "code",
   "execution_count": 5,
   "metadata": {},
   "outputs": [
    {
     "name": "stdout",
     "output_type": "stream",
     "text": [
      "https://api.fyers.in/api/v2/generate-authcode?client_id=L0QBIDUTN6-100&redirect_uri=https%3A%2F%2Fwww.google.com%2F&response_type=code&state=None\n"
     ]
    }
   ],
   "source": [
    "client_id = \"L0QBIDUTN6-100\"\n",
    "secret_key = \"KX8OZIJJTO\"\n",
    "redirect_uri = \"https://www.google.com/\"\n",
    "response_type = \"code\"\n",
    "#state = \"sample_state\"\n",
    "grant_type = 'authorization_code'\n",
    "\n",
    "session=accessToken.SessionModel(\n",
    "    client_id=client_id,\n",
    "    secret_key=secret_key,\n",
    "    redirect_uri=redirect_uri, \n",
    "    response_type=response_type,\n",
    "    grant_type=grant_type\n",
    "    #state\n",
    ")\n",
    "\n",
    "response = session.generate_authcode()\n",
    "print(response)"
   ]
  },
  {
   "cell_type": "markdown",
   "metadata": {},
   "source": [
    "## 3 - Exchanging Auth_code for Access_token"
   ]
  },
  {
   "cell_type": "code",
   "execution_count": 6,
   "metadata": {},
   "outputs": [],
   "source": [
    "auth_code='eyJ0eXAiOiJKV1QiLCJhbGciOiJIUzI1NiJ9.eyJpc3MiOiJhcGkubG9naW4uZnllcnMuaW4iLCJpYXQiOjE3MDAyOTE0NTMsImV4cCI6MTcwMDMyMTQ1MywibmJmIjoxNzAwMjkwODUzLCJhdWQiOiJbXCJ4OjBcIiwgXCJ4OjFcIiwgXCJ4OjJcIiwgXCJkOjFcIiwgXCJkOjJcIiwgXCJ4OjFcIiwgXCJ4OjBcIl0iLCJzdWIiOiJhdXRoX2NvZGUiLCJkaXNwbGF5X25hbWUiOiJYVDA5OTYwIiwib21zIjoiSzEiLCJoc21fa2V5IjoiYThkOWUyY2M3NTViYTJmNWIxYjk4ZWE5MTQ3ZWNjMjJmZDIyNjg1ZDJjOTVmOGEwNDE5Nzg1ZmMiLCJub25jZSI6IiIsImFwcF9pZCI6IkwwUUJJRFVUTjYiLCJ1dWlkIjoiOTZjZGJjYThiNGFjNDRkYTg1YTQ5OTFiZDdiNGRkYzciLCJpcEFkZHIiOiIwLjAuMC4wIiwic2NvcGUiOiIifQ.c2nS7EZSKH4NjbNC2y_1nKFY6usmKo0sxS-e6Lmh5-E'"
   ]
  },
  {
   "cell_type": "code",
   "execution_count": 7,
   "metadata": {},
   "outputs": [
    {
     "name": "stdout",
     "output_type": "stream",
     "text": [
      "{'s': 'ok', 'code': 200, 'message': '', 'access_token': 'eyJ0eXAiOiJKV1QiLCJhbGciOiJIUzI1NiJ9.eyJpc3MiOiJhcGkuZnllcnMuaW4iLCJpYXQiOjE3MDAyOTE0ODcsImV4cCI6MTcwMDM1MzgyNywibmJmIjoxNzAwMjkxNDg3LCJhdWQiOlsieDowIiwieDoxIiwieDoyIiwiZDoxIiwiZDoyIiwieDoxIiwieDowIl0sInN1YiI6ImFjY2Vzc190b2tlbiIsImF0X2hhc2giOiJnQUFBQUFCbFdHT2ZjQk90dWtDa2tqZy14TXdkN3FjRTNmQ3Y0UDA5bGJ4SEE2TkxldWoyUWVodTZlUWd4YlFQaTJVMnNacUFNbFNabWNUcXdlOHdVRVY1MDR1cEN6d3Raa2N4LUU0ZlNLTDB2OTNsRDBOLVlpdz0iLCJkaXNwbGF5X25hbWUiOiJUVVNIQVIgVU1FU0ggU0VUSEkiLCJvbXMiOiJLMSIsImhzbV9rZXkiOiJhOGQ5ZTJjYzc1NWJhMmY1YjFiOThlYTkxNDdlY2MyMmZkMjI2ODVkMmM5NWY4YTA0MTk3ODVmYyIsImZ5X2lkIjoiWFQwOTk2MCIsImFwcFR5cGUiOjEwMCwicG9hX2ZsYWciOiJOIn0.27HEVYVeRMDtt0xzfCR9bBGDGhMWDhKES-Aw6m9AYLA', 'refresh_token': 'eyJ0eXAiOiJKV1QiLCJhbGciOiJIUzI1NiJ9.eyJpc3MiOiJhcGkuZnllcnMuaW4iLCJpYXQiOjE3MDAyOTE0ODcsImV4cCI6MTcwMTU2MzQyNywibmJmIjoxNzAwMjkxNDg3LCJhdWQiOlsieDowIiwieDoxIiwieDoyIiwiZDoxIiwiZDoyIiwieDoxIiwieDowIl0sInN1YiI6InJlZnJlc2hfdG9rZW4iLCJhdF9oYXNoIjoiZ0FBQUFBQmxXR09mY0JPdHVrQ2tramcteE13ZDdxY0UzZkN2NFAwOWxieEhBNk5MZXVqMlFlaHU2ZVFneGJRUGkyVTJzWnFBTWxTWm1jVHF3ZTh3VUVWNTA0dXBDend0WmtjeC1FNGZTS0wwdjkzbEQwTi1ZaXc9IiwiZGlzcGxheV9uYW1lIjoiVFVTSEFSIFVNRVNIIFNFVEhJIiwib21zIjoiSzEiLCJoc21fa2V5IjoiYThkOWUyY2M3NTViYTJmNWIxYjk4ZWE5MTQ3ZWNjMjJmZDIyNjg1ZDJjOTVmOGEwNDE5Nzg1ZmMiLCJmeV9pZCI6IlhUMDk5NjAiLCJhcHBUeXBlIjoxMDAsInBvYV9mbGFnIjoiTiJ9.8biLtIt3LfhvuNeoBxKv1Aan7pzLh5ksz2x5Bb9wYvM'}\n"
     ]
    }
   ],
   "source": [
    "session.set_token(auth_code)\n",
    "response = session.generate_token()\n",
    "print(response)\n",
    "\n",
    "\n",
    "## authcode & acces token changes on each run & valid for 1 day"
   ]
  },
  {
   "cell_type": "code",
   "execution_count": 8,
   "metadata": {},
   "outputs": [],
   "source": [
    "access_token = response[\"access_token\"]"
   ]
  },
  {
   "cell_type": "markdown",
   "metadata": {},
   "source": [
    "# 4. validating connection"
   ]
  },
  {
   "cell_type": "code",
   "execution_count": 9,
   "metadata": {},
   "outputs": [
    {
     "name": "stdout",
     "output_type": "stream",
     "text": [
      "{'s': 'ok', 'code': 200, 'message': '', 'data': {'fy_id': 'XT09960', 'name': 'TUSHAR UMESH SETHI', 'image': None, 'display_name': None, 'pin_change_date': '31-10-2023 20:01:26', 'email_id': 'tusharsethi385@gmail.com', 'pwd_change_date': None, 'PAN': '---------', 'mobile_number': '9665442404', 'totp': True, 'pwd_to_expire': 90}}\n"
     ]
    }
   ],
   "source": [
    "from fyers_api import fyersModel\n",
    "import os\n",
    "\n",
    "fyers = fyersModel.FyersModel(client_id=client_id, token=access_token, log_path=os.getcwd())\n",
    "response = fyers.get_profile()\n",
    "print(response)"
   ]
  },
  {
   "cell_type": "code",
   "execution_count": 10,
   "metadata": {},
   "outputs": [
    {
     "data": {
      "text/plain": [
       "<fyers_api.fyersModel.FyersModel at 0x7ff5de614c70>"
      ]
     },
     "execution_count": 10,
     "metadata": {},
     "output_type": "execute_result"
    }
   ],
   "source": [
    "fyers"
   ]
  },
  {
   "cell_type": "markdown",
   "metadata": {},
   "source": [
    "# 5. Login Automation with seleinium "
   ]
  },
  {
   "cell_type": "markdown",
   "metadata": {},
   "source": [
    "### 5.1 chrome extension testing"
   ]
  },
  {
   "cell_type": "code",
   "execution_count": 16,
   "metadata": {},
   "outputs": [],
   "source": [
    "from fyers_api import accessToken\n",
    "from fyers_api import fyersModel\n",
    "import os\n",
    "# from pyotp import TOTP\n",
    "from selenium import webdriver\n",
    "import time\n",
    "\n",
    "def generate_auth_code():\n",
    "    session=accessToken.SessionModel(\n",
    "    client_id=\"L0QBIDUTN6-100\",\n",
    "    secret_key=\"KX8OZIJJTO\",\n",
    "    redirect_uri=\"https://www.google.com/\", \n",
    "    response_type=\"code\",\n",
    "    grant_type='authorization_code')\n",
    "    response = session.generate_authcode()\n",
    "    driver=webdriver.Chrome()\n",
    "    driver.get(response)\n",
    "    time.sleep(10)\n",
    "  \n",
    "  \n",
    "generate_auth_code()  "
   ]
  },
  {
   "cell_type": "markdown",
   "metadata": {},
   "source": [
    "### 5.2 Complete code"
   ]
  },
  {
   "cell_type": "code",
   "execution_count": 1,
   "metadata": {},
   "outputs": [
    {
     "name": "stdout",
     "output_type": "stream",
     "text": [
      "TOTP code: 611383\n",
      "auth_code: eyJ0eXAiOiJKV1QiLCJhbGciOiJIUzI1NiJ9.eyJpc3MiOiJhcGkubG9naW4uZnllcnMuaW4iLCJpYXQiOjE3MDE1MTcwMDcsImV4cCI6MTcwMTU0NzAwNywibmJmIjoxNzAxNTE2NDA3LCJhdWQiOiJbXCJ4OjBcIiwgXCJ4OjFcIiwgXCJ4OjJcIiwgXCJkOjFcIiwgXCJkOjJcIiwgXCJ4OjFcIiwgXCJ4OjBcIl0iLCJzdWIiOiJhdXRoX2NvZGUiLCJkaXNwbGF5X25hbWUiOiJYVDA5OTYwIiwib21zIjoiSzEiLCJoc21fa2V5IjoiYThkOWUyY2M3NTViYTJmNWIxYjk4ZWE5MTQ3ZWNjMjJmZDIyNjg1ZDJjOTVmOGEwNDE5Nzg1ZmMiLCJub25jZSI6IiIsImFwcF9pZCI6IkwwUUJJRFVUTjYiLCJ1dWlkIjoiOTBmOWYxY2M0ODA0NDFmYmI3ZWU3YWZjNmQwMzFhYTciLCJpcEFkZHIiOiIwLjAuMC4wIiwic2NvcGUiOiIifQ.vjGZOzwCcyiw2byTakSqL0tn64RvPOnQYsD_p_ADQGU\n",
      "access_token: eyJ0eXAiOiJKV1QiLCJhbGciOiJIUzI1NiJ9.eyJpc3MiOiJhcGkuZnllcnMuaW4iLCJpYXQiOjE3MDE1MTcwMTIsImV4cCI6MTcwMTU2MzQ1MiwibmJmIjoxNzAxNTE3MDEyLCJhdWQiOlsieDowIiwieDoxIiwieDoyIiwiZDoxIiwiZDoyIiwieDoxIiwieDowIl0sInN1YiI6ImFjY2Vzc190b2tlbiIsImF0X2hhc2giOiJnQUFBQUFCbGF4YlV5YjFiNmg3U1RHUzBqRy1MTnFDektPYWQ3LU0wWElsQzJGcVZzd3hlbElyWENjeF9OY0JZRmt5dEZIYm5scklsVjBRQ21ZNVdmRVlTX1IxYmZXZXpkekZYS1g1WTZhX2xTQ3lmWnZMMGNVbz0iLCJkaXNwbGF5X25hbWUiOiJUVVNIQVIgVU1FU0ggU0VUSEkiLCJvbXMiOiJLMSIsImhzbV9rZXkiOiJhOGQ5ZTJjYzc1NWJhMmY1YjFiOThlYTkxNDdlY2MyMmZkMjI2ODVkMmM5NWY4YTA0MTk3ODVmYyIsImZ5X2lkIjoiWFQwOTk2MCIsImFwcFR5cGUiOjEwMCwicG9hX2ZsYWciOiJOIn0.XBJ6clQzx3ry0h19cPBgAMRcCiFwlWFpWDbe4kfyPqk\n"
     ]
    }
   ],
   "source": [
    "from fyers_api import accessToken\n",
    "from fyers_api import fyersModel\n",
    "import os\n",
    "from pyotp import TOTP\n",
    "from selenium import webdriver\n",
    "import time\n",
    "\n",
    "pin1 = '2'\n",
    "pin2 = '4'\n",
    "pin3 = '4'\n",
    "pin4 = '0'\n",
    "\n",
    "\n",
    "def generate_auth_code():\n",
    "    global session\n",
    "    session=accessToken.SessionModel(\n",
    "    client_id=\"L0QBIDUTN6-100\",\n",
    "    secret_key=\"KX8OZIJJTO\",\n",
    "    redirect_uri=\"https://www.google.com/\", \n",
    "    response_type=\"code\",\n",
    "    grant_type='authorization_code')\n",
    "    response = session.generate_authcode()\n",
    "    driver=webdriver.Chrome()\n",
    "    driver.get(response)\n",
    "    time.sleep(1)\n",
    "    driver.find_element(\"xpath\", '//*[@id=\"mobile-code\"]').send_keys('9665442404')\n",
    "    driver.find_element(\"xpath\", '//*[@id=\"mobileNumberSubmit\"]').click()\n",
    "    time.sleep(1)\n",
    "    \n",
    "    # secret_key = \"KX8OZIJJTO\"\n",
    "    # secret_key_bytes = secret_key.encode() \n",
    "    # secret_key_base32 = base64.b32encode(secret_key_bytes).decode('utf-8')   ##temp print\n",
    "    # totp = TOTP(base64.b32encode(secret_key_bytes))\n",
    "    totp = TOTP(\"6MTV6VGCQ5RAOTDKJQJ5NGXPERBO27BE\")  ## converted secret key from myaccount\n",
    "    t = totp.now()\n",
    "    print(\"TOTP code:\", t)\n",
    "    # print(\"Converted base32:\", secret_key_base32) \n",
    "\n",
    "    driver.find_element(\"xpath\", '//*[@id=\"first\"]').send_keys(t[0])\n",
    "    driver.find_element(\"xpath\", '//*[@id=\"second\"]').send_keys(t[1])\n",
    "    driver.find_element(\"xpath\", '//*[@id=\"third\"]').send_keys(t[2])\n",
    "    driver.find_element(\"xpath\", '//*[@id=\"fourth\"]').send_keys(t[3])\n",
    "    driver.find_element(\"xpath\", '//*[@id=\"fifth\"]').send_keys(t[4])\n",
    "    driver.find_element(\"xpath\", '//*[@id=\"sixth\"]').send_keys(t[5])\n",
    "    driver.find_element(\"xpath\", '//*[@id=\"confirmOtpSubmit\"]').click()\n",
    "    time.sleep(1)\n",
    "    \n",
    "    driver.find_element(\"id\", \"verify-pin-page\").find_element(\"id\",\"first\").send_keys(pin1)\n",
    "    driver.find_element(\"id\", \"verify-pin-page\").find_element(\"id\",\"second\").send_keys(pin2)\n",
    "    driver.find_element(\"id\", \"verify-pin-page\").find_element(\"id\",\"third\").send_keys(pin3)\n",
    "    driver.find_element(\"id\", \"verify-pin-page\").find_element(\"id\",\"fourth\").send_keys(pin4)\n",
    "    driver.find_element(\"xpath\", '//*[@id=\"verifyPinSubmit\"]').click()\n",
    "    time.sleep(1)\n",
    "    \n",
    "    newurl = driver.current_url\n",
    "    auth_code = newurl[newurl.index('auth_code=')+10:newurl.index('&state')]\n",
    "    driver.quit()\n",
    "    return auth_code\n",
    "\n",
    "  \n",
    "auth_code=generate_auth_code()\n",
    "print(\"auth_code:\", auth_code)\n",
    "\n",
    "\n",
    "session.set_token(auth_code)\n",
    "response = session.generate_token()\n",
    "access_token = response[\"access_token\"]\n",
    "print(\"access_token:\", access_token)\n",
    "a= open(\"access.txt\",'w')\n",
    "a.write(access_token)\n",
    "a.close()\n",
    "\n"
   ]
  },
  {
   "cell_type": "markdown",
   "metadata": {},
   "source": [
    "### 5.3 validation of token"
   ]
  },
  {
   "cell_type": "code",
   "execution_count": 2,
   "metadata": {},
   "outputs": [
    {
     "name": "stdout",
     "output_type": "stream",
     "text": [
      "{'s': 'ok', 'code': 200, 'message': '', 'data': {'fy_id': 'XT09960', 'name': 'TUSHAR UMESH SETHI', 'image': None, 'display_name': None, 'pin_change_date': '31-10-2023 20:01:26', 'email_id': 'tusharsethi385@gmail.com', 'pwd_change_date': None, 'PAN': '---------', 'mobile_number': '9665442404', 'totp': True, 'pwd_to_expire': 90}}\n"
     ]
    }
   ],
   "source": [
    "from fyers_api import fyersModel\n",
    "import os\n",
    "client_id=\"L0QBIDUTN6-100\"\n",
    "\n",
    "fyers = fyersModel.FyersModel(client_id=client_id, token=access_token, log_path=os.getcwd())\n",
    "response = fyers.get_profile()\n",
    "print(response)"
   ]
  },
  {
   "cell_type": "code",
   "execution_count": null,
   "metadata": {},
   "outputs": [],
   "source": []
  }
 ],
 "metadata": {
  "kernelspec": {
   "display_name": "Python 3.10.12 64-bit",
   "language": "python",
   "name": "python3"
  },
  "language_info": {
   "codemirror_mode": {
    "name": "ipython",
    "version": 3
   },
   "file_extension": ".py",
   "mimetype": "text/x-python",
   "name": "python",
   "nbconvert_exporter": "python",
   "pygments_lexer": "ipython3",
   "version": "3.10.12"
  },
  "orig_nbformat": 4,
  "vscode": {
   "interpreter": {
    "hash": "916dbcbb3f70747c44a77c7bcd40155683ae19c65e1c03b4aa3499c5328201f1"
   }
  }
 },
 "nbformat": 4,
 "nbformat_minor": 2
}
