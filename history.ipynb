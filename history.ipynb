{
 "cells": [
  {
   "cell_type": "markdown",
   "metadata": {},
   "source": [
    "# 1. Importing libraries"
   ]
  },
  {
   "cell_type": "code",
   "execution_count": 1,
   "metadata": {},
   "outputs": [],
   "source": [
    "from fyers_api import fyersModel\n",
    "import os\n",
    "import pandas as pd\n",
    "import datetime as dt"
   ]
  },
  {
   "cell_type": "markdown",
   "metadata": {},
   "source": [
    "# 2. Reading Access token"
   ]
  },
  {
   "cell_type": "code",
   "execution_count": 2,
   "metadata": {},
   "outputs": [
    {
     "name": "stdout",
     "output_type": "stream",
     "text": [
      "access_token: eyJ0eXAiOiJKV1QiLCJhbGciOiJIUzI1NiJ9.eyJpc3MiOiJhcGkuZnllcnMuaW4iLCJpYXQiOjE3MDA0NjAxOTYsImV4cCI6MTcwMDUyNjYxNiwibmJmIjoxNzAwNDYwMTk2LCJhdWQiOlsieDowIiwieDoxIiwieDoyIiwiZDoxIiwiZDoyIiwieDoxIiwieDowIl0sInN1YiI6ImFjY2Vzc190b2tlbiIsImF0X2hhc2giOiJnQUFBQUFCbFd2YWtCM2k2eEUybWRjVzVRVkxIQnVQeXVWQUZzT1lacV9aa3VibWtaRWhrc0hBXzVmaGRzdmpvZGtzOVU2cFY4dHhWS2hwb3laeFpfckJVcTl6c25UVEhXQlJkR3pkcWVkeXkwX1pSZ1NZT0RDcz0iLCJkaXNwbGF5X25hbWUiOiJUVVNIQVIgVU1FU0ggU0VUSEkiLCJvbXMiOiJLMSIsImhzbV9rZXkiOiJhOGQ5ZTJjYzc1NWJhMmY1YjFiOThlYTkxNDdlY2MyMmZkMjI2ODVkMmM5NWY4YTA0MTk3ODVmYyIsImZ5X2lkIjoiWFQwOTk2MCIsImFwcFR5cGUiOjEwMCwicG9hX2ZsYWciOiJOIn0.1_0_IyxmBqgp_sblFOTkpg6crHPAwFzhpr9umyS6qeE\n"
     ]
    }
   ],
   "source": [
    "with open(\"access.txt\",'r') as r:\n",
    "    access_token=r.read()\n",
    "\n",
    "print(\"access_token:\",access_token)\n",
    "\n",
    "client_id='L0QBIDUTN6-100'\n",
    "fyers = fyersModel.FyersModel(token=access_token, log_path=os.getcwd(), client_id = client_id)\n",
    "validation = fyers.get_profile()\n",
    "print(\"validation:\", validation)"
   ]
  },
  {
   "cell_type": "markdown",
   "metadata": {},
   "source": [
    "# 3. loading data"
   ]
  },
  {
   "cell_type": "code",
   "execution_count": 3,
   "metadata": {},
   "outputs": [],
   "source": [
    "input = {\n",
    "    \"symbol\":\"NSE:SBIN-EQ\",\n",
    "    \"resolution\":\"D\",\n",
    "    \"date_format\":\"1\",\n",
    "    \"range_from\":\"2023-11-01\",\n",
    "    \"range_to\":\"2023-11-03\",\n",
    "    \"cont_flag\":\"1\"\n",
    "}\n",
    "\n",
    "## daily - 365 days\n",
    "## min - 90 days"
   ]
  },
  {
   "cell_type": "code",
   "execution_count": 5,
   "metadata": {},
   "outputs": [
    {
     "data": {
      "text/html": [
       "<div>\n",
       "<style scoped>\n",
       "    .dataframe tbody tr th:only-of-type {\n",
       "        vertical-align: middle;\n",
       "    }\n",
       "\n",
       "    .dataframe tbody tr th {\n",
       "        vertical-align: top;\n",
       "    }\n",
       "\n",
       "    .dataframe thead th {\n",
       "        text-align: right;\n",
       "    }\n",
       "</style>\n",
       "<table border=\"1\" class=\"dataframe\">\n",
       "  <thead>\n",
       "    <tr style=\"text-align: right;\">\n",
       "      <th></th>\n",
       "      <th>0</th>\n",
       "      <th>1</th>\n",
       "      <th>2</th>\n",
       "      <th>3</th>\n",
       "      <th>4</th>\n",
       "      <th>5</th>\n",
       "    </tr>\n",
       "  </thead>\n",
       "  <tbody>\n",
       "    <tr>\n",
       "      <th>0</th>\n",
       "      <td>1698796800</td>\n",
       "      <td>566.25</td>\n",
       "      <td>569.65</td>\n",
       "      <td>563.85</td>\n",
       "      <td>566.40</td>\n",
       "      <td>13575575</td>\n",
       "    </tr>\n",
       "    <tr>\n",
       "      <th>1</th>\n",
       "      <td>1698883200</td>\n",
       "      <td>571.10</td>\n",
       "      <td>575.45</td>\n",
       "      <td>567.60</td>\n",
       "      <td>572.10</td>\n",
       "      <td>11148516</td>\n",
       "    </tr>\n",
       "    <tr>\n",
       "      <th>2</th>\n",
       "      <td>1698969600</td>\n",
       "      <td>576.00</td>\n",
       "      <td>579.50</td>\n",
       "      <td>573.45</td>\n",
       "      <td>578.15</td>\n",
       "      <td>11371371</td>\n",
       "    </tr>\n",
       "  </tbody>\n",
       "</table>\n",
       "</div>"
      ],
      "text/plain": [
       "            0       1       2       3       4         5\n",
       "0  1698796800  566.25  569.65  563.85  566.40  13575575\n",
       "1  1698883200  571.10  575.45  567.60  572.10  11148516\n",
       "2  1698969600  576.00  579.50  573.45  578.15  11371371"
      ]
     },
     "execution_count": 5,
     "metadata": {},
     "output_type": "execute_result"
    }
   ],
   "source": [
    "data = fyers.history(input)\n",
    "data = pd.DataFrame(data['candles'])\n",
    "data.columns=['date','open','high','low','close','volume']\n",
    "data['date'] = pd.to_datetime(data['date'],unit='s')\n",
    "data.date=(data.date.dt.tz_localize('UTC').dt.tz_convert('Asia/Kolkata'))\n",
    "data['date'] = data['date'].dt.tz_localize(None)\n",
    "data= data.set_index('date')\n",
    "data"
   ]
  },
  {
   "cell_type": "markdown",
   "metadata": {},
   "source": [
    "# 4. Loading large dates"
   ]
  },
  {
   "cell_type": "markdown",
   "metadata": {},
   "source": [
    "### 4.1 Complete code - without dataframe"
   ]
  },
  {
   "cell_type": "code",
   "execution_count": 5,
   "metadata": {},
   "outputs": [
    {
     "name": "stdout",
     "output_type": "stream",
     "text": [
      "from : 2018-05-27     to: 2023-11-17\n",
      "start: 2018-05-27    end: 2018-07-26\n",
      "start: 2018-07-27    end: 2018-09-25\n",
      "start: 2018-09-26    end: 2018-11-25\n",
      "start: 2018-11-26    end: 2019-01-25\n",
      "start: 2019-01-26    end: 2019-03-27\n",
      "start: 2019-03-28    end: 2019-05-27\n",
      "start: 2019-05-28    end: 2019-07-27\n",
      "start: 2019-07-28    end: 2019-09-26\n",
      "start: 2019-09-27    end: 2019-11-26\n",
      "start: 2019-11-27    end: 2020-01-26\n",
      "start: 2020-01-27    end: 2020-03-27\n",
      "start: 2020-03-28    end: 2020-05-27\n",
      "start: 2020-05-28    end: 2020-07-27\n",
      "start: 2020-07-28    end: 2020-09-26\n",
      "start: 2020-09-27    end: 2020-11-26\n",
      "start: 2020-11-27    end: 2021-01-26\n",
      "start: 2021-01-27    end: 2021-03-28\n",
      "start: 2021-03-29    end: 2021-05-28\n",
      "start: 2021-05-29    end: 2021-07-28\n",
      "start: 2021-07-29    end: 2021-09-27\n",
      "start: 2021-09-28    end: 2021-11-27\n",
      "start: 2021-11-28    end: 2022-01-27\n",
      "start: 2022-01-28    end: 2022-03-29\n",
      "start: 2022-03-30    end: 2022-05-29\n",
      "start: 2022-05-30    end: 2022-07-29\n",
      "start: 2022-07-30    end: 2022-09-28\n",
      "start: 2022-09-29    end: 2022-11-28\n",
      "start: 2022-11-29    end: 2023-01-28\n",
      "start: 2023-01-29    end: 2023-03-30\n",
      "start: 2023-03-31    end: 2023-05-30\n",
      "start: 2023-05-31    end: 2023-07-30\n",
      "start: 2023-07-31    end: 2023-09-29\n",
      "start: 2023-09-30    end: 2023-11-29\n",
      "                       open    high     low   close    volume\n",
      "date                                                         \n",
      "2018-05-28 05:30:00  267.40  274.20  266.05  272.05  18959368\n",
      "2018-05-29 05:30:00  270.50  270.95  262.80  264.30  16107543\n",
      "2018-05-30 05:30:00  260.50  268.00  259.95  267.15  19320209\n",
      "2018-05-31 05:30:00  266.85  274.80  263.15  269.55  31935892\n",
      "2018-06-01 05:30:00  269.25  269.80  264.60  266.70  16574717\n",
      "...                     ...     ...     ...     ...       ...\n",
      "2023-11-10 05:30:00  577.80  581.00  575.40  579.50   6773038\n",
      "2023-11-12 05:30:00  584.75  584.75  580.10  581.30   1947722\n",
      "2023-11-13 05:30:00  581.00  582.50  575.20  581.35  11282362\n",
      "2023-11-15 05:30:00  587.25  588.00  582.60  584.70  11397676\n",
      "2023-11-16 05:30:00  584.70  588.00  582.90  584.65   8622660\n",
      "\n",
      "[1357 rows x 5 columns]\n"
     ]
    }
   ],
   "source": [
    "from fyers_api import fyersModel\n",
    "import os\n",
    "import pandas as pd\n",
    "import datetime as dt\n",
    "\n",
    "\n",
    "with open(\"access.txt\",'r') as r:\n",
    "    access_token=r.read()\n",
    "\n",
    "# print(\"access_token:\",access_token)\n",
    "\n",
    "client_id='L0QBIDUTN6-100'\n",
    "fyers = fyersModel.FyersModel(token=access_token, log_path=os.getcwd(), client_id = client_id)\n",
    "# validation = fyers.get_profile()\n",
    "# print(\"validation:\", validation)\n",
    "\n",
    "\n",
    "\n",
    "def gethist(stock,type,timeframe,duration):\n",
    "    symbol=\"NSE:\"+stock+\"-\"+type\n",
    "    start = dt.date.today()-dt.timedelta(duration)\n",
    "    # start = dt.date(2022, 8, 1)\n",
    "    end = dt.date.today()\n",
    "    # end = dt.date(2023, 11, 6)\n",
    "    print(\"from :\",start, \"    to:\",end)\n",
    "    sdata = pd.DataFrame()\n",
    "    while start <= end:\n",
    "        end2 = start + dt.timedelta(days=60)  \n",
    "        print(\"start:\",start,\"   end:\", end2)\n",
    "        data = {\"symbol\":symbol, \"resolution\":timeframe,\"date_format\":\"1\",\"range_from\":start,\"range_to\":end2,\"cont_flag\":\"1\"}\n",
    "        s = fyers.history(data)\n",
    "        s=pd.DataFrame(s['candles'])\n",
    "        sdata = pd.concat([sdata,s],ignore_index=True)\n",
    "        start=end2+dt.timedelta(1)\n",
    "\n",
    "\n",
    "    sdata.columns=['date','open','high','low','close','volume']\n",
    "    sdata['date'] = pd.to_datetime(sdata['date'],unit='s')\n",
    "    sdata.date=(sdata.date.dt.tz_localize('UTC').dt.tz_convert('Asia/Kolkata'))\n",
    "    sdata['date'] = sdata['date'].dt.tz_localize(None)\n",
    "    sdata= sdata.set_index('date')\n",
    "    return sdata\n",
    "\n",
    "print(gethist('SBIN', 'EQ', 'D', 2000))"
   ]
  },
  {
   "cell_type": "markdown",
   "metadata": {},
   "source": [
    "### 4.2 Complete code - with dataframe"
   ]
  },
  {
   "cell_type": "code",
   "execution_count": 1,
   "metadata": {},
   "outputs": [
    {
     "name": "stdout",
     "output_type": "stream",
     "text": [
      "from : 2022-10-21     to: 2023-11-25\n",
      "start: 2022-10-21    end: 2022-12-20\n",
      "start: 2022-12-21    end: 2023-02-19\n",
      "start: 2023-02-20    end: 2023-04-21\n",
      "start: 2023-04-22    end: 2023-06-21\n",
      "start: 2023-06-22    end: 2023-08-21\n",
      "start: 2023-08-22    end: 2023-10-21\n",
      "start: 2023-10-22    end: 2023-12-21\n",
      "                       open    high     low   close    volume\n",
      "date                                                         \n",
      "2022-10-21 05:30:00  557.25  565.80  557.25  560.85  11767639\n",
      "2022-10-24 05:30:00  567.00  572.50  565.90  570.50   3692065\n",
      "2022-10-25 05:30:00  572.50  586.20  568.00  578.55  19899324\n",
      "2022-10-27 05:30:00  583.95  585.00  577.60  579.65  13613533\n",
      "2022-10-28 05:30:00  579.95  582.65  567.00  570.75  10043644\n",
      "...                     ...     ...     ...     ...       ...\n",
      "2023-11-20 05:30:00  564.00  566.80  560.60  563.75  12714585\n",
      "2023-11-21 05:30:00  566.00  566.65  561.00  561.50  14280013\n",
      "2023-11-22 05:30:00  562.95  564.50  555.15  558.95  14909071\n",
      "2023-11-23 05:30:00  561.75  563.50  558.30  559.95   6376210\n",
      "2023-11-24 05:30:00  561.95  562.45  559.25  560.35   6529851\n",
      "\n",
      "[272 rows x 5 columns]\n"
     ]
    },
    {
     "data": {
      "text/html": [
       "<div>\n",
       "<style scoped>\n",
       "    .dataframe tbody tr th:only-of-type {\n",
       "        vertical-align: middle;\n",
       "    }\n",
       "\n",
       "    .dataframe tbody tr th {\n",
       "        vertical-align: top;\n",
       "    }\n",
       "\n",
       "    .dataframe thead th {\n",
       "        text-align: right;\n",
       "    }\n",
       "</style>\n",
       "<table border=\"1\" class=\"dataframe\">\n",
       "  <thead>\n",
       "    <tr style=\"text-align: right;\">\n",
       "      <th></th>\n",
       "      <th>open</th>\n",
       "      <th>high</th>\n",
       "      <th>low</th>\n",
       "      <th>close</th>\n",
       "      <th>volume</th>\n",
       "    </tr>\n",
       "    <tr>\n",
       "      <th>date</th>\n",
       "      <th></th>\n",
       "      <th></th>\n",
       "      <th></th>\n",
       "      <th></th>\n",
       "      <th></th>\n",
       "    </tr>\n",
       "  </thead>\n",
       "  <tbody>\n",
       "    <tr>\n",
       "      <th>2022-10-21 05:30:00</th>\n",
       "      <td>557.25</td>\n",
       "      <td>565.80</td>\n",
       "      <td>557.25</td>\n",
       "      <td>560.85</td>\n",
       "      <td>11767639</td>\n",
       "    </tr>\n",
       "    <tr>\n",
       "      <th>2022-10-24 05:30:00</th>\n",
       "      <td>567.00</td>\n",
       "      <td>572.50</td>\n",
       "      <td>565.90</td>\n",
       "      <td>570.50</td>\n",
       "      <td>3692065</td>\n",
       "    </tr>\n",
       "    <tr>\n",
       "      <th>2022-10-25 05:30:00</th>\n",
       "      <td>572.50</td>\n",
       "      <td>586.20</td>\n",
       "      <td>568.00</td>\n",
       "      <td>578.55</td>\n",
       "      <td>19899324</td>\n",
       "    </tr>\n",
       "    <tr>\n",
       "      <th>2022-10-27 05:30:00</th>\n",
       "      <td>583.95</td>\n",
       "      <td>585.00</td>\n",
       "      <td>577.60</td>\n",
       "      <td>579.65</td>\n",
       "      <td>13613533</td>\n",
       "    </tr>\n",
       "    <tr>\n",
       "      <th>2022-10-28 05:30:00</th>\n",
       "      <td>579.95</td>\n",
       "      <td>582.65</td>\n",
       "      <td>567.00</td>\n",
       "      <td>570.75</td>\n",
       "      <td>10043644</td>\n",
       "    </tr>\n",
       "  </tbody>\n",
       "</table>\n",
       "</div>"
      ],
      "text/plain": [
       "                       open    high     low   close    volume\n",
       "date                                                         \n",
       "2022-10-21 05:30:00  557.25  565.80  557.25  560.85  11767639\n",
       "2022-10-24 05:30:00  567.00  572.50  565.90  570.50   3692065\n",
       "2022-10-25 05:30:00  572.50  586.20  568.00  578.55  19899324\n",
       "2022-10-27 05:30:00  583.95  585.00  577.60  579.65  13613533\n",
       "2022-10-28 05:30:00  579.95  582.65  567.00  570.75  10043644"
      ]
     },
     "execution_count": 1,
     "metadata": {},
     "output_type": "execute_result"
    }
   ],
   "source": [
    "from fyers_api import fyersModel\n",
    "import os\n",
    "import pandas as pd\n",
    "import datetime as dt\n",
    "\n",
    "with open(\"access.txt\", 'r') as r:\n",
    "    access_token = r.read()\n",
    "\n",
    "client_id = 'L0QBIDUTN6-100'\n",
    "fyers = fyersModel.FyersModel(token=access_token, log_path=os.getcwd(), client_id=client_id)\n",
    "\n",
    "def gethist(stock, type, timeframe, duration):\n",
    "    symbol = \"NSE:\" + stock + \"-\" + type\n",
    "    start = dt.date.today() - dt.timedelta(duration)\n",
    "    end = dt.date.today()\n",
    "    print(\"from :\", start, \"    to:\", end)\n",
    "    \n",
    "    sdata = pd.DataFrame()\n",
    "    \n",
    "    while start <= end:\n",
    "        end2 = start + dt.timedelta(days=60)  \n",
    "        print(\"start:\", start, \"   end:\", end2)\n",
    "        \n",
    "        data = {\"symbol\": symbol, \"resolution\": timeframe, \"date_format\": \"1\", \"range_from\": start, \"range_to\": end2, \"cont_flag\": \"1\"}\n",
    "        candles = fyers.history(data)\n",
    "        \n",
    "        if candles.get('candles'):\n",
    "            s = pd.DataFrame(candles['candles'])\n",
    "            sdata = pd.concat([sdata, s], ignore_index=True)\n",
    "        \n",
    "        start = end2 + dt.timedelta(1)\n",
    "    \n",
    "    sdata.columns = ['date', 'open', 'high', 'low', 'close', 'volume']\n",
    "    sdata['date'] = pd.to_datetime(sdata['date'], unit='s')\n",
    "    sdata['date'] = sdata['date'].dt.tz_localize('UTC').dt.tz_convert('Asia/Kolkata')\n",
    "    sdata['date'] = sdata['date'].dt.tz_localize(None)\n",
    "    sdata = sdata.set_index('date')\n",
    "    \n",
    "    return sdata\n",
    "\n",
    "# Call the function and store the result in a DataFrame\n",
    "historical_data = gethist('SBIN', 'EQ', 'D', 400)\n",
    "print(historical_data)\n",
    "historical_data.head()\n"
   ]
  }
 ],
 "metadata": {
  "kernelspec": {
   "display_name": "Python 3.10.12 64-bit",
   "language": "python",
   "name": "python3"
  },
  "language_info": {
   "codemirror_mode": {
    "name": "ipython",
    "version": 3
   },
   "file_extension": ".py",
   "mimetype": "text/x-python",
   "name": "python",
   "nbconvert_exporter": "python",
   "pygments_lexer": "ipython3",
   "version": "3.10.12"
  },
  "orig_nbformat": 4,
  "vscode": {
   "interpreter": {
    "hash": "916dbcbb3f70747c44a77c7bcd40155683ae19c65e1c03b4aa3499c5328201f1"
   }
  }
 },
 "nbformat": 4,
 "nbformat_minor": 2
}
